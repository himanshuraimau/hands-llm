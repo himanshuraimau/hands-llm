{
  "nbformat": 4,
  "nbformat_minor": 0,
  "metadata": {
    "colab": {
      "provenance": [],
      "gpuType": "T4",
      "authorship_tag": "ABX9TyNbGqJEqmHJJiSX8lF4LAjq",
      "include_colab_link": true
    },
    "kernelspec": {
      "name": "python3",
      "display_name": "Python 3"
    },
    "language_info": {
      "name": "python"
    }
  },
  "cells": [
    {
      "cell_type": "markdown",
      "metadata": {
        "id": "view-in-github",
        "colab_type": "text"
      },
      "source": [
        "<a href=\"https://colab.research.google.com/github/himanshuraimau/hands-llm/blob/main/ch1.ipynb\" target=\"_parent\"><img src=\"https://colab.research.google.com/assets/colab-badge.svg\" alt=\"Open In Colab\"/></a>"
      ]
    },
    {
      "cell_type": "code",
      "execution_count": null,
      "metadata": {
        "id": "GRHYC-4OhlQK"
      },
      "outputs": [],
      "source": [
        "!pip install transformers>=4.40.1 accelerate>=0.27.2"
      ]
    },
    {
      "cell_type": "code",
      "source": [
        "from transformers import AutoModelForCausalLM, AutoTokenizer\n",
        "\n",
        "# Load model and tokenizer\n",
        "model = AutoModelForCausalLM.from_pretrained(\n",
        "    \"microsoft/Phi-3-mini-4k-instruct\",\n",
        "    device_map=\"cuda\",\n",
        "    torch_dtype=\"auto\",\n",
        "    trust_remote_code=True,\n",
        ")\n",
        "tokenizer = AutoTokenizer.from_pretrained(\"microsoft/Phi-3-mini-4k-instruct\")"
      ],
      "metadata": {
        "id": "N3T-kwi0ybIk"
      },
      "execution_count": null,
      "outputs": []
    },
    {
      "cell_type": "code",
      "source": [
        "# print the tokenizer vocab size\n",
        "print(f\"Vocab size: {tokenizer.vocab_size}\")"
      ],
      "metadata": {
        "id": "l5InbHJszZod"
      },
      "execution_count": null,
      "outputs": []
    },
    {
      "cell_type": "code",
      "source": [
        "# Test the tokenizer with some example words\n",
        "words=[\"hello\",\"world\",\"aI\",\"learning\"]\n",
        "for word in words:\n",
        "  print(word,tokenizer.encode(word))\n",
        "\n",
        "# test the tokenizer with a sentence\n",
        "sentence=\"hello world aI learning\"\n",
        "print(sentence,tokenizer.encode(sentence))\n",
        "print(sentence,tokenizer.decode(tokenizer.encode(sentence)))\n"
      ],
      "metadata": {
        "id": "S9E2NKiw0Tk8"
      },
      "execution_count": null,
      "outputs": []
    },
    {
      "cell_type": "code",
      "source": [
        "# Encode the sentence to get the token ids\n",
        "token_ids = tokenizer.encode(sentence)\n",
        "\n",
        "# decode each token id back to its token\n",
        "tokens = [tokenizer.decode(token_id) for token_id in token_ids]\n",
        "\n",
        "# create a mapping of token id to tokens\n",
        "token_id_map = list(zip(token_ids, tokens))\n",
        "\n",
        "# print the mapping\n",
        "for token_id, token in token_id_map:\n",
        "    print(f\"Token ID: {token_id}, Token: {token}\")"
      ],
      "metadata": {
        "id": "ntQa_3wa08-X"
      },
      "execution_count": null,
      "outputs": []
    },
    {
      "cell_type": "code",
      "source": [
        "from transformers import pipeline\n",
        "\n",
        "# Create a pipeline\n",
        "generator = pipeline(\n",
        "    \"text-generation\",\n",
        "    model=model,\n",
        "    tokenizer=tokenizer,\n",
        "    return_full_text=False,\n",
        "    max_new_tokens=500,\n",
        "    do_sample=False #make sure the next word generated has the highest probab\n",
        ")"
      ],
      "metadata": {
        "id": "8n07AsbD1dSC"
      },
      "execution_count": null,
      "outputs": []
    },
    {
      "cell_type": "code",
      "source": [
        "# The prompt (user input / query)\n",
        "messages = [\n",
        "    {\"role\": \"system\", \"content\": \"You are a stand-up comedian.\"},\n",
        "    {\"role\": \"user\", \"content\": \"Create a funny joke about chickens.\"}\n",
        "]\n",
        "\n",
        "# Generate output\n",
        "output = generator(messages)\n",
        "print(output[0][\"generated_text\"])"
      ],
      "metadata": {
        "id": "TRvpFtge1h2N"
      },
      "execution_count": null,
      "outputs": []
    }
  ]
}